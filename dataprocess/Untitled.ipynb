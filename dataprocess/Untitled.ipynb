{
 "cells": [
  {
   "cell_type": "code",
   "execution_count": 5,
   "metadata": {
    "collapsed": true
   },
   "outputs": [],
   "source": [
    "# -*- coding: utf-8 -*-\n",
    "import requests\n",
    "import time\n",
    "import random\n",
    "import json\n",
    "import tornado.ioloop\n",
    "import tornado.web\n",
    "import tornado.httpserver\n",
    "import tornado.options\n",
    "import os\n",
    "import sys\n",
    "from tornado.options import define, options\n",
    "import tornado.websocket\n",
    "import json, ast\n",
    "import numpy as np\n",
    "from pymongo import  MongoClient\n",
    "def get_page(url):\n",
    "    user_agent_str = \"Mozilla/5.0 (X11; Linux x86_64) AppleWebKit/537.36 (KHTML, like Gecko) Chrome/54.0.2840.71 Safari/537.36\"\n",
    "    time.sleep(random.uniform(0,1))\n",
    "    return json.loads(requests.get(url, headers={\"Connection\":\"keep-alive\", \"User-Agent\": user_agent_str}).text)\n",
    "\n",
    "\n",
    "def filterData():\n",
    "    url = \"http://123.207.75.151:9999/bch/api/viabtc/txs/get_all/1MEPB525tEHRFLdq6aR8d2t8jaaRQj2iWX\"\n",
    "    dataArr = get_page(url)\n",
    "    # for i in range(1, 10000):\n",
    "    #     url = \"https://blockchain.info/rawaddr/\" + address +'?offset='\n",
    "    #     url += str(i*50)\n",
    "    #     data = get_page(url)\n",
    "    #     try:\n",
    "    #         if len(data['txs']) == 0:\n",
    "    #             break\n",
    "    #         dataArr['txs'].extend(data['txs'])\n",
    "    #     except: \n",
    "    #         break\n",
    "    return dataArr"
   ]
  },
  {
   "cell_type": "code",
   "execution_count": 17,
   "metadata": {
    "collapsed": false
   },
   "outputs": [],
   "source": [
    "data=filterData()"
   ]
  },
  {
   "cell_type": "code",
   "execution_count": 18,
   "metadata": {
    "collapsed": false
   },
   "outputs": [
    {
     "name": "stdout",
     "output_type": "stream",
     "text": [
      "5\n"
     ]
    }
   ],
   "source": [
    "print(len(data['result']['msg']))"
   ]
  },
  {
   "cell_type": "code",
   "execution_count": null,
   "metadata": {
    "collapsed": true
   },
   "outputs": [],
   "source": [
    "result={}"
   ]
  },
  {
   "cell_type": "code",
   "execution_count": 64,
   "metadata": {
    "collapsed": false
   },
   "outputs": [
    {
     "name": "stdout",
     "output_type": "stream",
     "text": [
      "{'txid': ['987cf6cf2ca12fccf36937cc334257f1662be0ff7492cad5cae2dd8a7d5690ed', '987cf6cf2ca12fccf36937cc334257f1662be0ff7492cad5cae2dd8a7d5690ed', '987cf6cf2ca12fccf36937cc334257f1662be0ff7492cad5cae2dd8a7d5690ed', '987cf6cf2ca12fccf36937cc334257f1662be0ff7492cad5cae2dd8a7d5690ed', 'ac40b543e57a32a6e286f257c22ca37fb6cd0003aaaab72fcc95a60f0838154c', '8eabaa8852c38cfcdf68c39f2965b73d0ab7bc109e4210e175399a58dcb9cc3b', '05010d8b254d275c8b746083df2e9594b1505121824cfe47513570f0f684469a'], 'sent': 2980.0, 'addr': '1MEPB525tEHRFLdq6aR8d2t8jaaRQj2iWX', 'balance': 3545.2765437300004, 'received': 6525.27654373, 'input_n': 2, 'tx_n': 7, 'output_n': 5}\n"
     ]
    }
   ],
   "source": [
    "address='1MEPB525tEHRFLdq6aR8d2t8jaaRQj2iWX'\n",
    "addrData={}\n",
    "txData={}\n",
    "txData['addr']=address\n",
    "txData['n_tx']=len(data['result']['msg'])\n",
    "txData['received']=0\n",
    "txData['sent']=0\n",
    "txData['balance']=0\n",
    "txData['txs']=[]\n",
    "received=0\n",
    "sent=0\n",
    "balance=0\n",
    "for index in data['result']['msg']:\n",
    "    record={}\n",
    "    record['inputs']=[]\n",
    "    record['outputs']=[]\n",
    "    record['time']=float(index['time'])\n",
    "    record['confirmations']=index['confirmations']\n",
    "    record['income']=float(index['income'])\n",
    "    record['txid']=index['txid']\n",
    "    balance+=float(index['income'])\n",
    "    \n",
    "    for put in index['inputs']:\n",
    "        temp={}\n",
    "        temp['txid']=put['prev_txid']\n",
    "        temp['value']=float(put['prev_value'])\n",
    "        temp['addr']=put['prev_addresses'][0]\n",
    "        if temp['addr'] == address:\n",
    "            sent+=temp['value']\n",
    "            \n",
    "        if temp['addr'] not in addrData:\n",
    "            addrData[temp['addr']]={'addr': temp['addr'], 'sent': temp['value'], 'received': 0, 'balance': -temp['value'], 'input_n': 1, 'output_n': 0, 'tx_n': 1, 'txid': [record['txid']]}\n",
    "        else:\n",
    "            addrData[temp['addr']]['sent']+=temp['value']\n",
    "            addrData[temp['addr']]['balance']-=temp['value']\n",
    "            addrData[temp['addr']]['input_n']+=1\n",
    "            addrData[temp['addr']]['tx_n']+=1\n",
    "            addrData[temp['addr']]['txid'].append(record['txid'])\n",
    "        record['inputs'].append(temp)\n",
    "    \n",
    " \n",
    "    for put in index['outputs']:\n",
    "        temp={}\n",
    "        temp['txid']=put['next_txid']\n",
    "        temp['value']=float(put['value'])\n",
    "        temp['addr']=put['addresses'][0]\n",
    "        if temp['addr'] == address:\n",
    "            received+=temp['value']\n",
    "            \n",
    "        if temp['addr'] not in addrData:\n",
    "            addrData[temp['addr']]={'addr': temp['addr'], 'sent': 0, 'received': temp['value'], 'balance': temp['value'], 'input_n': 0, 'output_n': 1, 'tx_n': 1, 'txid': [record['txid']]}\n",
    "        else:\n",
    "            addrData[temp['addr']]['received']+=temp['value']\n",
    "            addrData[temp['addr']]['balance']+=temp['value']\n",
    "            addrData[temp['addr']]['output_n']+=1\n",
    "            addrData[temp['addr']]['tx_n']+=1\n",
    "            addrData[temp['addr']]['txid'].append(record['txid'])\n",
    "            \n",
    "        record['outputs'].append(temp)\n",
    "    #print(record) \n",
    "    txData['txs'].append(record)\n",
    "    \n",
    "\n",
    "\n",
    "    \n",
    "txData['received']=received\n",
    "txData['sent']=sent\n",
    "txData['balance']=received-sent\n",
    "\n",
    "temp=[]\n",
    "for index in addrData:\n",
    "    temp.append(addrData[index])\n",
    "print(addrData['1MEPB525tEHRFLdq6aR8d2t8jaaRQj2iWX'])"
   ]
  },
  {
   "cell_type": "code",
   "execution_count": null,
   "metadata": {
    "collapsed": true
   },
   "outputs": [],
   "source": []
  }
 ],
 "metadata": {
  "kernelspec": {
   "display_name": "Python 3",
   "language": "python",
   "name": "python3"
  },
  "language_info": {
   "codemirror_mode": {
    "name": "ipython",
    "version": 3
   },
   "file_extension": ".py",
   "mimetype": "text/x-python",
   "name": "python",
   "nbconvert_exporter": "python",
   "pygments_lexer": "ipython3",
   "version": "3.5.0"
  }
 },
 "nbformat": 4,
 "nbformat_minor": 2
}
