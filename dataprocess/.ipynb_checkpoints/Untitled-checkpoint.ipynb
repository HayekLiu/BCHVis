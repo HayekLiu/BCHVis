{
 "cells": [
  {
   "cell_type": "code",
   "execution_count": null,
   "metadata": {
    "collapsed": true
   },
   "outputs": [],
   "source": [
    "def get_page(url):\n",
    "    user_agent_str = \"Mozilla/5.0 (X11; Linux x86_64) AppleWebKit/537.36 (KHTML, like Gecko) Chrome/54.0.2840.71 Safari/537.36\"\n",
    "    time.sleep(random.uniform(0,1))\n",
    "    return extractData(json.loads(requests.get(url, headers={\"Connection\":\"keep-alive\", \"User-Agent\": user_agent_str}).text))\n",
    "\n",
    "\n",
    "def filterData(address):\n",
    "    url = \"https://blockchain.info/rawaddr/\" + address\n",
    "    dataArr = get_page(url)\n",
    "    # for i in range(1, 10000):\n",
    "    #     url = \"https://blockchain.info/rawaddr/\" + address +'?offset='\n",
    "    #     url += str(i*50)\n",
    "    #     data = get_page(url)\n",
    "    #     try:\n",
    "    #         if len(data['txs']) == 0:\n",
    "    #             break\n",
    "    #         dataArr['txs'].extend(data['txs'])\n",
    "    #     except: \n",
    "    #         break\n",
    "    return dataArr"
   ]
  }
 ],
 "metadata": {
  "kernelspec": {
   "display_name": "Python 3",
   "language": "python",
   "name": "python3"
  },
  "language_info": {
   "codemirror_mode": {
    "name": "ipython",
    "version": 3
   },
   "file_extension": ".py",
   "mimetype": "text/x-python",
   "name": "python",
   "nbconvert_exporter": "python",
   "pygments_lexer": "ipython3",
   "version": "3.5.0"
  }
 },
 "nbformat": 4,
 "nbformat_minor": 2
}
